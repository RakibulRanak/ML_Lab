{
  "nbformat": 4,
  "nbformat_minor": 0,
  "metadata": {
    "colab": {
      "provenance": []
    },
    "kernelspec": {
      "name": "python3",
      "display_name": "Python 3"
    },
    "language_info": {
      "name": "python"
    }
  },
  "cells": [
    {
      "cell_type": "markdown",
      "source": [
        "# Md. Rakibul Hasan\n",
        "# 2017831005"
      ],
      "metadata": {
        "id": "yNrqjcRal3ll"
      }
    },
    {
      "cell_type": "code",
      "source": [
        "import os\n",
        "import numpy as np\n",
        "import tensorflow as tf\n",
        "from tensorflow import keras\n",
        "from tensorflow.keras.preprocessing import image\n",
        "from tensorflow.keras.preprocessing.image import ImageDataGenerator\n",
        "from tensorflow.keras.models import Sequential, load_model\n",
        "from tensorflow.keras.optimizers import RMSprop\n",
        "from tensorflow.keras.callbacks import ReduceLROnPlateau\n",
        "from tensorflow.keras.layers import Dense, Flatten, Conv2D, Dropout, MaxPooling2D, AvgPool2D\n",
        "from tensorflow.keras.callbacks import CSVLogger, ModelCheckpoint, ReduceLROnPlateau, EarlyStopping\n",
        "from sklearn.model_selection import train_test_split"
      ],
      "metadata": {
        "id": "nFG3u4CvoBYU"
      },
      "execution_count": 1,
      "outputs": []
    },
    {
      "cell_type": "code",
      "source": [
        "import numpy as np\n",
        "import matplotlib.pyplot as plt\n",
        "import PIL\n",
        "import cv2"
      ],
      "metadata": {
        "id": "D2GaDQX6WLby"
      },
      "execution_count": null,
      "outputs": []
    },
    {
      "cell_type": "code",
      "execution_count": 2,
      "metadata": {
        "colab": {
          "base_uri": "https://localhost:8080/"
        },
        "id": "55XmsbVllyj-",
        "outputId": "769cefb8-c613-4526-b363-e57f8f5b83ed"
      },
      "outputs": [
        {
          "output_type": "stream",
          "name": "stdout",
          "text": [
            "Mounted at /content/drive\n"
          ]
        }
      ],
      "source": [
        "from google.colab import drive\n",
        "drive.mount('/content/drive')"
      ]
    },
    {
      "cell_type": "code",
      "source": [
        "# zip_path = '/content/drive/MyDrive/Final_Assignment/CNN_Dataset.zip'\n",
        "# extract_path = '/content/drive/MyDrive/Final_Assignment'\n",
        "# !unzip '{zip_path}' -d '{extract_path}'"
      ],
      "metadata": {
        "id": "O-66VKjysU7s"
      },
      "execution_count": 15,
      "outputs": []
    },
    {
      "cell_type": "code",
      "source": [
        "data_dir = '/content/drive/MyDrive/Final_Assignment/CNN_dataset'\n",
        "\n",
        "categories = sorted(x for x in os.listdir(data_dir) if os.path.isdir(os.path.join(data_dir, x)))\n",
        "total_categories = len(categories)\n",
        "img_per_category = [sorted(os.listdir(os.path.join(data_dir, categories[i]))) for i in range(total_categories)]\n",
        "img_per_category_count = [len(img_per_category[i]) for i in range(total_categories)]\n",
        "image_file = [os.path.join(data_dir, categories[i], x) for i in range(total_categories) for x in img_per_category[i]]\n",
        "image_category = [i for i in range(total_categories) for _ in img_per_category[i]]\n",
        "total_image_count = len(image_file)\n",
        "dimension = PIL.Image.open(image_file[0]).size\n",
        "\n",
        "print(\"Dimension\", dimension)\n",
        "print(\"Categories\", categories)\n",
        "print(\"Images per category\", img_per_category_count)\n"
      ],
      "metadata": {
        "colab": {
          "base_uri": "https://localhost:8080/"
        },
        "id": "TInvOsekojM5",
        "outputId": "0ef5e20f-9d6d-4e68-fc26-860259213e2b"
      },
      "execution_count": 8,
      "outputs": [
        {
          "output_type": "stream",
          "name": "stdout",
          "text": [
            "Dimension (64, 64)\n",
            "Categories ['AbdomenCT', 'CXR', 'ChestCT', 'Hand', 'HeadCT']\n",
            "Images per category [10000, 10000, 10000, 10000, 10000]\n"
          ]
        }
      ]
    },
    {
      "cell_type": "code",
      "source": [
        "image_list = []\n",
        "for image_path in image_file:\n",
        "  image = cv2.imread(image_path, cv2.IMREAD_GRAYSCALE)\n",
        "  image_list.append(image)"
      ],
      "metadata": {
        "id": "Plrv-Ug-DapV"
      },
      "execution_count": 9,
      "outputs": []
    },
    {
      "cell_type": "code",
      "source": [
        "image_list = np.array(image_list)\n",
        "image_category = np.array(image_category)\n",
        "\n",
        "x_train, x_test, y_train, y_test = train_test_split(image_list, image_category, \n",
        "                                                    test_size=0.1, \n",
        "                                                    stratify=image_category, \n",
        "                                                    random_state=13)\n",
        "x_train, x_val, y_train, y_val = train_test_split(x_train, y_train, \n",
        "                                                  test_size=0.1/(1-0.1), \n",
        "                                                  stratify=y_train, \n",
        "                                                  random_state=13)\n",
        "\n",
        "print(\"x_train shape:\", x_train.shape)\n",
        "print(\"y_train shape:\", y_train.shape)\n",
        "print(\"x_val shape:\", x_val.shape)\n",
        "print(\"y_val shape:\", y_val.shape)\n",
        "print(\"x_test shape:\", x_test.shape)\n",
        "print(\"y_test shape:\", y_test.shape)"
      ],
      "metadata": {
        "colab": {
          "base_uri": "https://localhost:8080/"
        },
        "id": "TqOPhXIuD3dG",
        "outputId": "00dd74bf-021b-4c76-fe89-c6bff0e3b591"
      },
      "execution_count": 10,
      "outputs": [
        {
          "output_type": "stream",
          "name": "stdout",
          "text": [
            "x_train shape: (40000, 64, 64)\n",
            "y_train shape: (40000,)\n",
            "x_val shape: (5000, 64, 64)\n",
            "y_val shape: (5000,)\n",
            "x_test shape: (5000, 64, 64)\n",
            "y_test shape: (5000,)\n"
          ]
        }
      ]
    },
    {
      "cell_type": "code",
      "source": [
        "plt.xticks([])\n",
        "plt.yticks([])\n",
        "plt.xlabel(categories[y_train[700]])\n",
        "plt.imshow(x_train[700],cmap=plt.cm.binary)"
      ],
      "metadata": {
        "colab": {
          "base_uri": "https://localhost:8080/",
          "height": 283
        },
        "id": "KXuh5LrmFKt6",
        "outputId": "6ca5280c-03b3-43bf-ace4-cbb8c4e9bebe"
      },
      "execution_count": 26,
      "outputs": [
        {
          "output_type": "execute_result",
          "data": {
            "text/plain": [
              "<matplotlib.image.AxesImage at 0x7f147b5e5880>"
            ]
          },
          "metadata": {},
          "execution_count": 26
        },
        {
          "output_type": "display_data",
          "data": {
            "text/plain": [
              "<Figure size 432x288 with 1 Axes>"
            ],
            "image/png": "[encoded data removed]"
          },
          "metadata": {}
        }
      ]
    },
    {
      "cell_type": "code",
      "source": [
        "model = tf.keras.Sequential()\n",
        "model.add(Conv2D(filters=64, kernel_size=(3,3),strides=(1, 1), padding='same', activation='relu', input_shape=(64,64,1))) \n",
        "model.add(MaxPooling2D(pool_size=(2,2)))\n",
        "model.add(Dropout(0.1))\n",
        "model.add(Conv2D(filters=32, kernel_size=(3,3),strides=(1, 1), padding='same', activation='relu'))\n",
        "model.add(MaxPooling2D(pool_size=(2,2)))\n",
        "model.add(Dropout(0.2))\n",
        "model.add(Conv2D(filters=16, kernel_size=(3,3),strides=(1, 1), padding='same', activation='relu'))\n",
        "model.add(MaxPooling2D(pool_size=(2,2)))\n",
        "model.add(Dropout(0.3))\n",
        "model.add(Flatten())\n",
        "model.add(Dense(256, activation='relu'))\n",
        "model.add(Dropout(0.5))\n",
        "model.add(Dense(5, activation='softmax'))\n",
        "model.summary()"
      ],
      "metadata": {
        "colab": {
          "base_uri": "https://localhost:8080/"
        },
        "id": "6w1uEoGxpbLU",
        "outputId": "02ffd553-8106-4df3-b928-00e928941fb2"
      },
      "execution_count": 27,
      "outputs": [
        {
          "output_type": "stream",
          "name": "stdout",
          "text": [
            "Model: \"sequential_1\"\n",
            "_________________________________________________________________\n",
            " Layer (type)                Output Shape              Param #   \n",
            "=================================================================\n",
            " conv2d_3 (Conv2D)           (None, 64, 64, 64)        640       \n",
            "                                                                 \n",
            " max_pooling2d_3 (MaxPooling  (None, 32, 32, 64)       0         \n",
            " 2D)                                                             \n",
            "                                                                 \n",
            " dropout_4 (Dropout)         (None, 32, 32, 64)        0         \n",
            "                                                                 \n",
            " conv2d_4 (Conv2D)           (None, 32, 32, 32)        18464     \n",
            "                                                                 \n",
            " max_pooling2d_4 (MaxPooling  (None, 16, 16, 32)       0         \n",
            " 2D)                                                             \n",
            "                                                                 \n",
            " dropout_5 (Dropout)         (None, 16, 16, 32)        0         \n",
            "                                                                 \n",
            " conv2d_5 (Conv2D)           (None, 16, 16, 16)        4624      \n",
            "                                                                 \n",
            " max_pooling2d_5 (MaxPooling  (None, 8, 8, 16)         0         \n",
            " 2D)                                                             \n",
            "                                                                 \n",
            " dropout_6 (Dropout)         (None, 8, 8, 16)          0         \n",
            "                                                                 \n",
            " flatten_1 (Flatten)         (None, 1024)              0         \n",
            "                                                                 \n",
            " dense_2 (Dense)             (None, 256)               262400    \n",
            "                                                                 \n",
            " dropout_7 (Dropout)         (None, 256)               0         \n",
            "                                                                 \n",
            " dense_3 (Dense)             (None, 5)                 1285      \n",
            "                                                                 \n",
            "=================================================================\n",
            "Total params: 287,413\n",
            "Trainable params: 287,413\n",
            "Non-trainable params: 0\n",
            "_________________________________________________________________\n"
          ]
        }
      ]
    },
    {
      "cell_type": "code",
      "source": [
        "model.compile(loss='sparse_categorical_crossentropy', optimizer='adam', metrics=['accuracy'])"
      ],
      "metadata": {
        "id": "QCvhNLguHCp4"
      },
      "execution_count": 13,
      "outputs": []
    },
    {
      "cell_type": "code",
      "source": [
        "model_log=model.fit(x_train, y_train,\n",
        "          batch_size=50,\n",
        "          epochs=10,\n",
        "          verbose=1,\n",
        "          validation_split=.3)"
      ],
      "metadata": {
        "colab": {
          "base_uri": "https://localhost:8080/"
        },
        "id": "KWo-EyfFHHqV",
        "outputId": "0ee356cc-43b2-4eac-b4d6-f31fda32b4a2"
      },
      "execution_count": 14,
      "outputs": [
        {
          "output_type": "stream",
          "name": "stdout",
          "text": [
            "Epoch 1/10\n",
            "560/560 [==============================] - 399s 708ms/step - loss: 0.7080 - accuracy: 0.8793 - val_loss: 0.0429 - val_accuracy: 0.9892\n",
            "Epoch 2/10\n",
            "560/560 [==============================] - 396s 707ms/step - loss: 0.0633 - accuracy: 0.9814 - val_loss: 0.0183 - val_accuracy: 0.9947\n",
            "Epoch 3/10\n",
            "560/560 [==============================] - 398s 712ms/step - loss: 0.0402 - accuracy: 0.9872 - val_loss: 0.0191 - val_accuracy: 0.9937\n",
            "Epoch 4/10\n",
            "560/560 [==============================] - 385s 688ms/step - loss: 0.0345 - accuracy: 0.9899 - val_loss: 0.0397 - val_accuracy: 0.9831\n",
            "Epoch 5/10\n",
            "560/560 [==============================] - 395s 706ms/step - loss: 0.0232 - accuracy: 0.9934 - val_loss: 0.0088 - val_accuracy: 0.9981\n",
            "Epoch 6/10\n",
            "560/560 [==============================] - 397s 709ms/step - loss: 0.0280 - accuracy: 0.9927 - val_loss: 0.0075 - val_accuracy: 0.9981\n",
            "Epoch 7/10\n",
            "560/560 [==============================] - 388s 694ms/step - loss: 0.0199 - accuracy: 0.9943 - val_loss: 0.0112 - val_accuracy: 0.9969\n",
            "Epoch 8/10\n",
            "560/560 [==============================] - 386s 690ms/step - loss: 0.0185 - accuracy: 0.9946 - val_loss: 0.0083 - val_accuracy: 0.9983\n",
            "Epoch 9/10\n",
            "560/560 [==============================] - 382s 683ms/step - loss: 0.0242 - accuracy: 0.9927 - val_loss: 0.0386 - val_accuracy: 0.9927\n",
            "Epoch 10/10\n",
            "560/560 [==============================] - 385s 688ms/step - loss: 0.0151 - accuracy: 0.9957 - val_loss: 0.0246 - val_accuracy: 0.9924\n"
          ]
        }
      ]
    },
    {
      "cell_type": "markdown",
      "source": [
        "# Result : Final Accuracy 0.9957"
      ],
      "metadata": {
        "id": "97QjJRyEmi3R"
      }
    },
    {
      "cell_type": "code",
      "source": [],
      "metadata": {
        "id": "8BAUeQ11mo3m"
      },
      "execution_count": null,
      "outputs": []
    }
  ]
}