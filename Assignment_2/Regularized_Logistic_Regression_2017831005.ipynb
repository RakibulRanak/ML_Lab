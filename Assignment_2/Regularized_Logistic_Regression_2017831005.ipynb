{
  "nbformat": 4,
  "nbformat_minor": 0,
  "metadata": {
    "colab": {
      "provenance": [],
      "collapsed_sections": []
    },
    "kernelspec": {
      "name": "python3",
      "display_name": "Python 3"
    },
    "language_info": {
      "name": "python"
    }
  },
  "cells": [
    {
      "cell_type": "markdown",
      "source": [
        "# Md. Rakibul Hasan\n",
        "## 2017831005\n",
        "### 23 Oct, 2022"
      ],
      "metadata": {
        "id": "xmX8Gb1VRJa4"
      }
    },
    {
      "cell_type": "code",
      "execution_count": 65,
      "metadata": {
        "id": "LkCipJF-F-wK"
      },
      "outputs": [],
      "source": [
        "import pandas as pd\n",
        "import matplotlib.pyplot as plt\n",
        "import csv\n",
        "import numpy as np\n",
        "import seaborn as sns"
      ]
    },
    {
      "cell_type": "code",
      "source": [
        "! gdown 1lM7HpS2p7BmgdjdBdDv6UITYAoJ-TqjS"
      ],
      "metadata": {
        "id": "04uADl0iJuzf",
        "colab": {
          "base_uri": "https://localhost:8080/"
        },
        "outputId": "b62fba27-5287-4107-cc3c-eb26fdd50b89"
      },
      "execution_count": 66,
      "outputs": [
        {
          "output_type": "stream",
          "name": "stdout",
          "text": [
            "Downloading...\n",
            "From: https://drive.google.com/uc?id=1lM7HpS2p7BmgdjdBdDv6UITYAoJ-TqjS\n",
            "To: /content/data2.txt\n",
            "\r  0% 0.00/2.35k [00:00<?, ?B/s]\r100% 2.35k/2.35k [00:00<00:00, 4.05MB/s]\n"
          ]
        }
      ]
    },
    {
      "cell_type": "code",
      "source": [
        "data = pd.read_csv(\"data2.txt\", header=None, names = [\"x1\",\"x2\",\"y\"])\n",
        "data.head()"
      ],
      "metadata": {
        "id": "_ET7Ev_8HF6L",
        "colab": {
          "base_uri": "https://localhost:8080/",
          "height": 206
        },
        "outputId": "c7b67ac9-e1a8-496e-ef8d-9d2f5ba4ae9e"
      },
      "execution_count": 67,
      "outputs": [
        {
          "output_type": "execute_result",
          "data": {
            "text/plain": [
              "         x1       x2  y\n",
              "0  0.051267  0.69956  1\n",
              "1 -0.092742  0.68494  1\n",
              "2 -0.213710  0.69225  1\n",
              "3 -0.375000  0.50219  1\n",
              "4 -0.513250  0.46564  1"
            ],
            "text/html": [
              "\n",
              "  <div id=\"df-bcf44177-7937-474b-b6c8-c436909c5b28\">\n",
              "    <div class=\"colab-df-container\">\n",
              "      <div>\n",
              "<style scoped>\n",
              "    .dataframe tbody tr th:only-of-type {\n",
              "        vertical-align: middle;\n",
              "    }\n",
              "\n",
              "    .dataframe tbody tr th {\n",
              "        vertical-align: top;\n",
              "    }\n",
              "\n",
              "    .dataframe thead th {\n",
              "        text-align: right;\n",
              "    }\n",
              "</style>\n",
              "<table border=\"1\" class=\"dataframe\">\n",
              "  <thead>\n",
              "    <tr style=\"text-align: right;\">\n",
              "      <th></th>\n",
              "      <th>x1</th>\n",
              "      <th>x2</th>\n",
              "      <th>y</th>\n",
              "    </tr>\n",
              "  </thead>\n",
              "  <tbody>\n",
              "    <tr>\n",
              "      <th>0</th>\n",
              "      <td>0.051267</td>\n",
              "      <td>0.69956</td>\n",
              "      <td>1</td>\n",
              "    </tr>\n",
              "    <tr>\n",
              "      <th>1</th>\n",
              "      <td>-0.092742</td>\n",
              "      <td>0.68494</td>\n",
              "      <td>1</td>\n",
              "    </tr>\n",
              "    <tr>\n",
              "      <th>2</th>\n",
              "      <td>-0.213710</td>\n",
              "      <td>0.69225</td>\n",
              "      <td>1</td>\n",
              "    </tr>\n",
              "    <tr>\n",
              "      <th>3</th>\n",
              "      <td>-0.375000</td>\n",
              "      <td>0.50219</td>\n",
              "      <td>1</td>\n",
              "    </tr>\n",
              "    <tr>\n",
              "      <th>4</th>\n",
              "      <td>-0.513250</td>\n",
              "      <td>0.46564</td>\n",
              "      <td>1</td>\n",
              "    </tr>\n",
              "  </tbody>\n",
              "</table>\n",
              "</div>\n",
              "      <button class=\"colab-df-convert\" onclick=\"convertToInteractive('df-bcf44177-7937-474b-b6c8-c436909c5b28')\"\n",
              "              title=\"Convert this dataframe to an interactive table.\"\n",
              "              style=\"display:none;\">\n",
              "        \n",
              "  <svg xmlns=\"http://www.w3.org/2000/svg\" height=\"24px\"viewBox=\"0 0 24 24\"\n",
              "       width=\"24px\">\n",
              "    <path d=\"M0 0h24v24H0V0z\" fill=\"none\"/>\n",
              "    <path d=\"M18.56 5.44l.94 2.06.94-2.06 2.06-.94-2.06-.94-.94-2.06-.94 2.06-2.06.94zm-11 1L8.5 8.5l.94-2.06 2.06-.94-2.06-.94L8.5 2.5l-.94 2.06-2.06.94zm10 10l.94 2.06.94-2.06 2.06-.94-2.06-.94-.94-2.06-.94 2.06-2.06.94z\"/><path d=\"M17.41 7.96l-1.37-1.37c-.4-.4-.92-.59-1.43-.59-.52 0-1.04.2-1.43.59L10.3 9.45l-7.72 7.72c-.78.78-.78 2.05 0 2.83L4 21.41c.39.39.9.59 1.41.59.51 0 1.02-.2 1.41-.59l7.78-7.78 2.81-2.81c.8-.78.8-2.07 0-2.86zM5.41 20L4 18.59l7.72-7.72 1.47 1.35L5.41 20z\"/>\n",
              "  </svg>\n",
              "      </button>\n",
              "      \n",
              "  <style>\n",
              "    .colab-df-container {\n",
              "      display:flex;\n",
              "      flex-wrap:wrap;\n",
              "      gap: 12px;\n",
              "    }\n",
              "\n",
              "    .colab-df-convert {\n",
              "      background-color: #E8F0FE;\n",
              "      border: none;\n",
              "      border-radius: 50%;\n",
              "      cursor: pointer;\n",
              "      display: none;\n",
              "      fill: #1967D2;\n",
              "      height: 32px;\n",
              "      padding: 0 0 0 0;\n",
              "      width: 32px;\n",
              "    }\n",
              "\n",
              "    .colab-df-convert:hover {\n",
              "      background-color: #E2EBFA;\n",
              "      box-shadow: 0px 1px 2px rgba(60, 64, 67, 0.3), 0px 1px 3px 1px rgba(60, 64, 67, 0.15);\n",
              "      fill: #174EA6;\n",
              "    }\n",
              "\n",
              "    [theme=dark] .colab-df-convert {\n",
              "      background-color: #3B4455;\n",
              "      fill: #D2E3FC;\n",
              "    }\n",
              "\n",
              "    [theme=dark] .colab-df-convert:hover {\n",
              "      background-color: #434B5C;\n",
              "      box-shadow: 0px 1px 3px 1px rgba(0, 0, 0, 0.15);\n",
              "      filter: drop-shadow(0px 1px 2px rgba(0, 0, 0, 0.3));\n",
              "      fill: #FFFFFF;\n",
              "    }\n",
              "  </style>\n",
              "\n",
              "      <script>\n",
              "        const buttonEl =\n",
              "          document.querySelector('#df-bcf44177-7937-474b-b6c8-c436909c5b28 button.colab-df-convert');\n",
              "        buttonEl.style.display =\n",
              "          google.colab.kernel.accessAllowed ? 'block' : 'none';\n",
              "\n",
              "        async function convertToInteractive(key) {\n",
              "          const element = document.querySelector('#df-bcf44177-7937-474b-b6c8-c436909c5b28');\n",
              "          const dataTable =\n",
              "            await google.colab.kernel.invokeFunction('convertToInteractive',\n",
              "                                                     [key], {});\n",
              "          if (!dataTable) return;\n",
              "\n",
              "          const docLinkHtml = 'Like what you see? Visit the ' +\n",
              "            '<a target=\"_blank\" href=https://colab.research.google.com/notebooks/data_table.ipynb>data table notebook</a>'\n",
              "            + ' to learn more about interactive tables.';\n",
              "          element.innerHTML = '';\n",
              "          dataTable['output_type'] = 'display_data';\n",
              "          await google.colab.output.renderOutput(dataTable, element);\n",
              "          const docLink = document.createElement('div');\n",
              "          docLink.innerHTML = docLinkHtml;\n",
              "          element.appendChild(docLink);\n",
              "        }\n",
              "      </script>\n",
              "    </div>\n",
              "  </div>\n",
              "  "
            ]
          },
          "metadata": {},
          "execution_count": 67
        }
      ]
    },
    {
      "cell_type": "code",
      "source": [
        "def plotData(data, label_x, label_y, label_pos, label_neg, axes=None):\n",
        "    # Get indexes for class 0 and class 1\n",
        "    neg = data['y'] == 0\n",
        "    pos = data['y'] == 1\n",
        "    \n",
        "    # If no specific axes object has been passed, get the current axes.\n",
        "    if axes == None:\n",
        "        axes = plt.gca()\n",
        "    axes.scatter(data[pos]['x1'], data[pos]['x2'], marker='+', c='orange', s=60, linewidth=2, label=label_pos)\n",
        "    axes.scatter(data[neg]['x1'], data[neg]['x2'], c='blue', s=60, label=label_neg)\n",
        "    axes.set_xlabel(label_x)\n",
        "    axes.set_ylabel(label_y)\n",
        "    axes.legend(frameon= True, fancybox = True);"
      ],
      "metadata": {
        "id": "WQsM0IONHNWP"
      },
      "execution_count": 68,
      "outputs": []
    },
    {
      "cell_type": "code",
      "source": [
        "plotData(data, 'Microchip Test 1', 'Microchip Test 2', 'y = 1', 'y = 0')"
      ],
      "metadata": {
        "id": "mPAeH_KOHRru",
        "colab": {
          "base_uri": "https://localhost:8080/",
          "height": 279
        },
        "outputId": "57aa8c24-eaf8-4585-cf7f-d6193b0103bf"
      },
      "execution_count": 69,
      "outputs": [
        {
          "output_type": "display_data",
          "data": {
            "text/plain": [
              "<Figure size 432x288 with 1 Axes>"
            ],
            "image/png": "[encoded data removed]"
          },
          "metadata": {
            "needs_background": "light"
          }
        }
      ]
    },
    {
      "cell_type": "code",
      "source": [
        "n = data.shape[1]-1\n",
        "x = data[data.columns[0:n]]\n",
        "\n",
        "y = data[data.columns[n:n+1]]\n",
        "# convert to np.array\n",
        "X = x.values\n",
        "y = y.values\n",
        "X"
      ],
      "metadata": {
        "id": "v232jZmWHULu",
        "colab": {
          "base_uri": "https://localhost:8080/"
        },
        "outputId": "99f1feae-2a39-4d9e-b513-d6899aafbdca"
      },
      "execution_count": 70,
      "outputs": [
        {
          "output_type": "execute_result",
          "data": {
            "text/plain": [
              "array([[ 0.051267 ,  0.69956  ],\n",
              "       [-0.092742 ,  0.68494  ],\n",
              "       [-0.21371  ,  0.69225  ],\n",
              "       [-0.375    ,  0.50219  ],\n",
              "       [-0.51325  ,  0.46564  ],\n",
              "       [-0.52477  ,  0.2098   ],\n",
              "       [-0.39804  ,  0.034357 ],\n",
              "       [-0.30588  , -0.19225  ],\n",
              "       [ 0.016705 , -0.40424  ],\n",
              "       [ 0.13191  , -0.51389  ],\n",
              "       [ 0.38537  , -0.56506  ],\n",
              "       [ 0.52938  , -0.5212   ],\n",
              "       [ 0.63882  , -0.24342  ],\n",
              "       [ 0.73675  , -0.18494  ],\n",
              "       [ 0.54666  ,  0.48757  ],\n",
              "       [ 0.322    ,  0.5826   ],\n",
              "       [ 0.16647  ,  0.53874  ],\n",
              "       [-0.046659 ,  0.81652  ],\n",
              "       [-0.17339  ,  0.69956  ],\n",
              "       [-0.47869  ,  0.63377  ],\n",
              "       [-0.60541  ,  0.59722  ],\n",
              "       [-0.62846  ,  0.33406  ],\n",
              "       [-0.59389  ,  0.005117 ],\n",
              "       [-0.42108  , -0.27266  ],\n",
              "       [-0.11578  , -0.39693  ],\n",
              "       [ 0.20104  , -0.60161  ],\n",
              "       [ 0.46601  , -0.53582  ],\n",
              "       [ 0.67339  , -0.53582  ],\n",
              "       [-0.13882  ,  0.54605  ],\n",
              "       [-0.29435  ,  0.77997  ],\n",
              "       [-0.26555  ,  0.96272  ],\n",
              "       [-0.16187  ,  0.8019   ],\n",
              "       [-0.17339  ,  0.64839  ],\n",
              "       [-0.28283  ,  0.47295  ],\n",
              "       [-0.36348  ,  0.31213  ],\n",
              "       [-0.30012  ,  0.027047 ],\n",
              "       [-0.23675  , -0.21418  ],\n",
              "       [-0.06394  , -0.18494  ],\n",
              "       [ 0.062788 , -0.16301  ],\n",
              "       [ 0.22984  , -0.41155  ],\n",
              "       [ 0.2932   , -0.2288   ],\n",
              "       [ 0.48329  , -0.18494  ],\n",
              "       [ 0.64459  , -0.14108  ],\n",
              "       [ 0.46025  ,  0.012427 ],\n",
              "       [ 0.6273   ,  0.15863  ],\n",
              "       [ 0.57546  ,  0.26827  ],\n",
              "       [ 0.72523  ,  0.44371  ],\n",
              "       [ 0.22408  ,  0.52412  ],\n",
              "       [ 0.44297  ,  0.67032  ],\n",
              "       [ 0.322    ,  0.69225  ],\n",
              "       [ 0.13767  ,  0.57529  ],\n",
              "       [-0.0063364,  0.39985  ],\n",
              "       [-0.092742 ,  0.55336  ],\n",
              "       [-0.20795  ,  0.35599  ],\n",
              "       [-0.20795  ,  0.17325  ],\n",
              "       [-0.43836  ,  0.21711  ],\n",
              "       [-0.21947  , -0.016813 ],\n",
              "       [-0.13882  , -0.27266  ],\n",
              "       [ 0.18376  ,  0.93348  ],\n",
              "       [ 0.22408  ,  0.77997  ],\n",
              "       [ 0.29896  ,  0.61915  ],\n",
              "       [ 0.50634  ,  0.75804  ],\n",
              "       [ 0.61578  ,  0.7288   ],\n",
              "       [ 0.60426  ,  0.59722  ],\n",
              "       [ 0.76555  ,  0.50219  ],\n",
              "       [ 0.92684  ,  0.3633   ],\n",
              "       [ 0.82316  ,  0.27558  ],\n",
              "       [ 0.96141  ,  0.085526 ],\n",
              "       [ 0.93836  ,  0.012427 ],\n",
              "       [ 0.86348  , -0.082602 ],\n",
              "       [ 0.89804  , -0.20687  ],\n",
              "       [ 0.85196  , -0.36769  ],\n",
              "       [ 0.82892  , -0.5212   ],\n",
              "       [ 0.79435  , -0.55775  ],\n",
              "       [ 0.59274  , -0.7405   ],\n",
              "       [ 0.51786  , -0.5943   ],\n",
              "       [ 0.46601  , -0.41886  ],\n",
              "       [ 0.35081  , -0.57968  ],\n",
              "       [ 0.28744  , -0.76974  ],\n",
              "       [ 0.085829 , -0.75512  ],\n",
              "       [ 0.14919  , -0.57968  ],\n",
              "       [-0.13306  , -0.4481   ],\n",
              "       [-0.40956  , -0.41155  ],\n",
              "       [-0.39228  , -0.25804  ],\n",
              "       [-0.74366  , -0.25804  ],\n",
              "       [-0.69758  ,  0.041667 ],\n",
              "       [-0.75518  ,  0.2902   ],\n",
              "       [-0.69758  ,  0.68494  ],\n",
              "       [-0.4038   ,  0.70687  ],\n",
              "       [-0.38076  ,  0.91886  ],\n",
              "       [-0.50749  ,  0.90424  ],\n",
              "       [-0.54781  ,  0.70687  ],\n",
              "       [ 0.10311  ,  0.77997  ],\n",
              "       [ 0.057028 ,  0.91886  ],\n",
              "       [-0.10426  ,  0.99196  ],\n",
              "       [-0.081221 ,  1.1089   ],\n",
              "       [ 0.28744  ,  1.087    ],\n",
              "       [ 0.39689  ,  0.82383  ],\n",
              "       [ 0.63882  ,  0.88962  ],\n",
              "       [ 0.82316  ,  0.66301  ],\n",
              "       [ 0.67339  ,  0.64108  ],\n",
              "       [ 1.0709   ,  0.10015  ],\n",
              "       [-0.046659 , -0.57968  ],\n",
              "       [-0.23675  , -0.63816  ],\n",
              "       [-0.15035  , -0.36769  ],\n",
              "       [-0.49021  , -0.3019   ],\n",
              "       [-0.46717  , -0.13377  ],\n",
              "       [-0.28859  , -0.060673 ],\n",
              "       [-0.61118  , -0.067982 ],\n",
              "       [-0.66302  , -0.21418  ],\n",
              "       [-0.59965  , -0.41886  ],\n",
              "       [-0.72638  , -0.082602 ],\n",
              "       [-0.83007  ,  0.31213  ],\n",
              "       [-0.72062  ,  0.53874  ],\n",
              "       [-0.59389  ,  0.49488  ],\n",
              "       [-0.48445  ,  0.99927  ],\n",
              "       [-0.0063364,  0.99927  ],\n",
              "       [ 0.63265  , -0.030612 ]])"
            ]
          },
          "metadata": {},
          "execution_count": 70
        }
      ]
    },
    {
      "cell_type": "code",
      "source": [
        "def mapFeature( x1col, x2col):\n",
        "    degrees = 12\n",
        "    out = np.ones( (x1col.shape[0], 1) )\n",
        "\n",
        "    for i in range(1, degrees+1):\n",
        "        for j in range(0, i+1):\n",
        "            term1 = x1col ** (i-j)\n",
        "            term2 = x2col ** (j)\n",
        "            term  = (term1 * term2).reshape( term1.shape[0], 1 ) \n",
        "            out   = np.hstack(( out, term ))\n",
        "    return out"
      ],
      "metadata": {
        "id": "XgO2azaRdPCc"
      },
      "execution_count": 71,
      "outputs": []
    },
    {
      "cell_type": "code",
      "source": [
        "XX = mapFeature(X[:,0],X[:,1])\n",
        "print(X.shape, XX.shape)"
      ],
      "metadata": {
        "id": "4zmnrt28HZF3",
        "colab": {
          "base_uri": "https://localhost:8080/"
        },
        "outputId": "24824362-4478-47e9-a0e8-0fa7c52ddd00"
      },
      "execution_count": 72,
      "outputs": [
        {
          "output_type": "stream",
          "name": "stdout",
          "text": [
            "(118, 2) (118, 91)\n"
          ]
        }
      ]
    },
    {
      "cell_type": "code",
      "source": [
        "from scipy.special import expit #Vectorized sigmoid function\n",
        "\n",
        "#Hypothesis function and cost function for logistic regression\n",
        "def h(mytheta,myX): #Logistic hypothesis function\n",
        "    return expit(np.dot(myX,mytheta))"
      ],
      "metadata": {
        "id": "sxKJKwaKLP5G"
      },
      "execution_count": 73,
      "outputs": []
    },
    {
      "cell_type": "code",
      "source": [
        "\n",
        "#Cost function, default lambda (regularization) 0\n",
        "def computeCost(mytheta,myX,myy,mylambda = 0.): \n",
        "\n",
        "    m = myy.size # number of training examples\n",
        "\n",
        "    term1 = np.dot(-np.array(myy).T,np.log(h(mytheta,myX)))\n",
        "    term2 = np.dot((1-np.array(myy)).T,np.log(1-h(mytheta,myX)))\n",
        "    regterm = (mylambda/2) * np.sum(np.dot(mytheta[1:].T,mytheta[1:])) #Skip theta0\n",
        "    return float( (1./m) * ( np.sum(term1 - term2) + regterm ) )"
      ],
      "metadata": {
        "id": "pSqGpkkbHetr"
      },
      "execution_count": 74,
      "outputs": []
    },
    {
      "cell_type": "code",
      "source": [
        "def sigmoid(z):\n",
        "  z = np.clip( z, -500, 500 )\n",
        "  g = 1.0/(1.0+np.exp(-z))\n",
        "  return g"
      ],
      "metadata": {
        "id": "2xomwurvLXwT"
      },
      "execution_count": 75,
      "outputs": []
    },
    {
      "cell_type": "code",
      "source": [
        "def compute_gradient_logistic(X, y, w):\n",
        "  m,n = X.shape\n",
        "  dj_dw = np.zeros((n,))\n",
        "\n",
        "  for i in range(m):\n",
        "    f_wb_i = sigmoid(np.dot(X[i], w))\n",
        "    err_i  = f_wb_i  - y[i]\n",
        "    for j in range(n):\n",
        "      dj_dw[j] = dj_dw[j] + err_i * X[i,j]\n",
        "  dj_dw = dj_dw/m\n",
        "      \n",
        "  return dj_dw"
      ],
      "metadata": {
        "id": "_rwYizjzLOuz"
      },
      "execution_count": 76,
      "outputs": []
    },
    {
      "cell_type": "code",
      "source": [
        "import copy\n",
        "import math\n",
        "initial_theta = np.zeros((XX.shape[1]))\n",
        "\n",
        "def optimizeRegularizedTheta(mytheta, myX, myy, alpha, num_iters, mylambda=0.):\n",
        "  m = myX.shape[0]\n",
        "  J_history = []\n",
        "  w = copy.deepcopy(mytheta)\n",
        "\n",
        "  for i in range(num_iters):\n",
        "    dj_dw = compute_gradient_logistic(myX, myy, w)\n",
        "    w = w*(1-alpha*(mylambda/m)) - alpha * dj_dw\n",
        "    if i<100000:\n",
        "        J_history.append( computeCost(w, myX, myy, mylambda) )\n",
        "    if i% math.ceil(num_iters / 10) == 0:\n",
        "        print(f\"Iteration {i:4d}: Cost {J_history[-1]}   \")\n",
        "  return w, min(J_history)\n",
        "    \n",
        "theta, mincost = optimizeRegularizedTheta(initial_theta,XX,y, 0.1, 100)\n",
        "print(theta)\n",
        "print(mincost)"
      ],
      "metadata": {
        "id": "MiwC-euqIY9Q",
        "colab": {
          "base_uri": "https://localhost:8080/"
        },
        "outputId": "59ea4229-99e0-4231-ffc9-618f016f277b"
      },
      "execution_count": 77,
      "outputs": [
        {
          "output_type": "stream",
          "name": "stdout",
          "text": [
            "Iteration    0: Cost 0.6906735692732336   \n",
            "Iteration   10: Cost 0.6717256490905966   \n",
            "Iteration   20: Cost 0.658896907170822   \n",
            "Iteration   30: Cost 0.6489743095985827   \n",
            "Iteration   40: Cost 0.6406639453790834   \n",
            "Iteration   50: Cost 0.6333853959460828   \n",
            "Iteration   60: Cost 0.6268407832485564   \n",
            "Iteration   70: Cost 0.6208566361739718   \n",
            "Iteration   80: Cost 0.6153208327886878   \n",
            "Iteration   90: Cost 0.6101550284737389   \n",
            "[ 2.24545966e-01 -3.50551475e-02  1.86576615e-01 -3.62996038e-01\n",
            " -1.05407386e-01 -1.70375498e-01 -6.98168770e-02 -4.83995316e-02\n",
            " -6.28792295e-02 -4.83486315e-02 -2.85789631e-01 -1.40113188e-02\n",
            " -9.79319372e-02 -2.92959170e-02 -1.96685692e-01 -1.03007077e-01\n",
            " -3.21620287e-02 -2.22826507e-02 -4.06183608e-02 -3.95075886e-02\n",
            " -1.17775513e-01 -2.16679163e-01 -3.57553155e-03 -5.05435052e-02\n",
            " -2.11839605e-03 -5.30372641e-02 -1.35673034e-02 -1.87395201e-01\n",
            " -1.10937645e-01 -1.93349074e-02 -1.57474424e-02 -1.73768243e-02\n",
            " -1.02686156e-02 -3.02573833e-02 -2.26844840e-02 -1.42060403e-01\n",
            " -1.71097085e-01 -2.19610896e-03 -2.85745147e-02 -9.69112021e-04\n",
            " -2.16006355e-02 -6.15121952e-04 -3.45266769e-02 -7.19742850e-03\n",
            " -1.77997155e-01 -1.09176348e-01 -1.30239249e-02 -1.15861548e-02\n",
            " -7.65640126e-03 -6.12473790e-03 -1.09565351e-02 -4.33328380e-03\n",
            " -2.34877890e-02 -1.29629679e-02 -1.53320373e-01 -1.41773456e-01\n",
            " -2.88468134e-03 -1.76372189e-02 -5.75427176e-04 -1.01292878e-02\n",
            " -8.45392251e-04 -1.19874709e-02  2.72842055e-04 -2.51846438e-02\n",
            " -4.10688809e-03 -1.73878382e-01 -1.04922005e-01 -1.00827884e-02\n",
            " -8.63902114e-03 -3.71558103e-03 -3.90447976e-03 -4.33548911e-03\n",
            " -2.59496265e-03 -7.53341894e-03 -1.50617298e-03 -1.93471312e-02\n",
            " -7.56459446e-03 -1.61852071e-01 -1.23184058e-01 -4.02892637e-03\n",
            " -1.16262099e-02 -3.83351535e-04 -5.36382056e-03 -6.60040694e-04\n",
            " -4.87498394e-03 -4.49927438e-04 -7.75627532e-03  7.91653515e-04\n",
            " -2.00387625e-02 -2.61027602e-03 -1.75484936e-01]\n",
            "0.6057740632519453\n"
          ]
        }
      ]
    },
    {
      "cell_type": "code",
      "source": [
        "def plotBoundary(mytheta, myX, myy, mylambda=0.):\n",
        "    \"\"\"\n",
        "    Function to plot the decision boundary for arbitrary theta, X, y, lambda value\n",
        "    Inside of this function is feature mapping, and the minimization routine.\n",
        "    It works by making a grid of x1 (\"xvals\") and x2 (\"yvals\") points,\n",
        "    And for each, computing whether the hypothesis classifies that point as\n",
        "    True or False. Then, a contour is drawn with a built-in pyplot function.\n",
        "    \"\"\"\n",
        "    alpha = .1\n",
        "    iters = 1000\n",
        "\n",
        "    theta, mincost = optimizeRegularizedTheta(mytheta, myX, myy, alpha, iters, mylambda)\n",
        "    print(theta, '\\n\\nCost : ', mincost, '\\n \\n ')\n",
        "    xvals = np.linspace(-1,1.5,50)\n",
        "    yvals = np.linspace(-1,1.5,50)\n",
        "    zvals = np.zeros((len(xvals),len(yvals)))\n",
        "    for i in range(len(xvals)):\n",
        "        for j in range(len(yvals)):\n",
        "            myfeaturesij = mapFeature(np.array([xvals[i]]),np.array([yvals[j]]))\n",
        "            zvals[i][j] = np.dot(theta,myfeaturesij.T)\n",
        "            # print(type(zvals), zvals.shape)\n",
        "    zvals = zvals.transpose()\n",
        "\n",
        "    u, v = np.meshgrid( xvals, yvals )\n",
        "    mycontour = plt.contour( xvals, yvals, zvals, [0])\n",
        "    #Kind of a hacky way to display a text on top of the decision boundary\n",
        "    myfmt = { 0:'Lambda = %d'%mylambda}\n",
        "    plt.clabel(mycontour, inline=1, fontsize=15, fmt=myfmt)\n",
        "    plt.title(\"Decision Boundary\")"
      ],
      "metadata": {
        "id": "n3VQpykTQ1ip"
      },
      "execution_count": 78,
      "outputs": []
    },
    {
      "cell_type": "code",
      "source": [
        "plt.figure(figsize=(12,10))\n",
        "plt.subplot(221)\n",
        "plotData(data, 'Microchip Test 1', 'Microchip Test 2', 'y = 1', 'y = 0')\n",
        "plotBoundary(initial_theta, XX, y, 0.)\n",
        "\n",
        "plt.subplot(222)\n",
        "plotData(data, 'Microchip Test 1', 'Microchip Test 2', 'y = 1', 'y = 0')\n",
        "plotBoundary(initial_theta,XX,y,1.)\n",
        "\n",
        "plt.subplot(223)\n",
        "plotData(data, 'Microchip Test 1', 'Microchip Test 2', 'y = 1', 'y = 0')\n",
        "plotBoundary(initial_theta,XX,y,10.)\n",
        "\n",
        "plt.subplot(224)\n",
        "plotData(data, 'Microchip Test 1', 'Microchip Test 2', 'y = 1', 'y = 0')\n",
        "plotBoundary(initial_theta,XX,y,50.)"
      ],
      "metadata": {
        "id": "JJvTscBAUJjT",
        "colab": {
          "base_uri": "https://localhost:8080/",
          "height": 1000
        },
        "outputId": "c03ff865-c3a3-4602-ba75-aa6955c5e325"
      },
      "execution_count": 79,
      "outputs": [
        {
          "output_type": "stream",
          "name": "stdout",
          "text": [
            "Iteration    0: Cost 0.6906735692732336   \n",
            "Iteration  100: Cost 0.6053014012861468   \n",
            "Iteration  200: Cost 0.5674194289432167   \n",
            "Iteration  300: Cost 0.5402043463946672   \n",
            "Iteration  400: Cost 0.5188801326053591   \n",
            "Iteration  500: Cost 0.5015157524836216   \n",
            "Iteration  600: Cost 0.48702193890960244   \n",
            "Iteration  700: Cost 0.4746967864960022   \n",
            "Iteration  800: Cost 0.4640584617997921   \n",
            "Iteration  900: Cost 0.45476295162715924   \n",
            "[ 1.25205364e+00  7.36714003e-01  1.32691676e+00 -2.03492040e+00\n",
            " -9.44252865e-01 -1.19639832e+00  2.61292082e-01 -4.21239241e-01\n",
            " -4.26604209e-01  1.80488470e-02 -1.47624259e+00 -8.61478924e-02\n",
            " -6.71864505e-01 -3.03076630e-01 -1.02106866e+00 -1.30772609e-01\n",
            " -2.43731981e-01 -8.01036478e-02 -2.95132467e-01 -3.41376286e-01\n",
            " -2.73395211e-01 -1.03278800e+00  8.00604942e-03 -3.26193729e-01\n",
            " -6.42616909e-03 -3.49515124e-01 -1.69761124e-01 -7.60026837e-01\n",
            " -2.74551019e-01 -1.23709863e-01 -5.84220490e-02 -1.28206904e-01\n",
            " -5.34613545e-02 -1.83513734e-01 -2.29859884e-01 -3.31917759e-01\n",
            " -7.47000389e-01  2.13183039e-02 -1.74170448e-01  3.45278510e-03\n",
            " -1.42346269e-01  1.50174681e-05 -2.03639573e-01 -1.14957551e-01\n",
            " -5.75795559e-01 -3.09542638e-01 -6.56680421e-02 -4.64747122e-02\n",
            " -5.42499567e-02 -2.79839333e-02 -7.22395477e-02 -2.58174160e-02\n",
            " -1.19487228e-01 -1.55836762e-01 -3.31988771e-01 -5.61311871e-01\n",
            "  1.74011051e-02 -1.02115119e-01  3.44036934e-03 -6.44941401e-02\n",
            " -1.64135525e-04 -7.52106732e-02  3.05253650e-03 -1.28634365e-01\n",
            " -8.58943902e-02 -4.59147146e-01 -3.02078609e-01 -3.82474018e-02\n",
            " -3.62288802e-02 -2.43797976e-02 -1.78070664e-02 -2.84214415e-02\n",
            " -1.22051191e-02 -4.42149247e-02 -1.07168032e-02 -8.32282214e-02\n",
            " -1.09871527e-01 -3.20734801e-01 -4.38158764e-01  1.01202822e-02\n",
            " -6.40871701e-02  2.64729095e-03 -3.28208083e-02 -8.51893931e-04\n",
            " -3.03494203e-02  1.89103529e-04 -4.48307633e-02  4.57476297e-03\n",
            " -8.72557258e-02 -6.82138381e-02 -3.89735500e-01] \n",
            "\n",
            "Cost :  0.4466345889317599 \n",
            " \n",
            " \n",
            "Iteration    0: Cost 0.6906746290186295   \n",
            "Iteration  100: Cost 0.6105893072115541   \n",
            "Iteration  200: Cost 0.5809949538262299   \n",
            "Iteration  300: Cost 0.5630521685472811   \n",
            "Iteration  400: Cost 0.5511569465495971   \n",
            "Iteration  500: Cost 0.5429510308491724   \n",
            "Iteration  600: Cost 0.5371449034494131   \n",
            "Iteration  700: Cost 0.5329578198915477   \n",
            "Iteration  800: Cost 0.5298915389216071   \n",
            "Iteration  900: Cost 0.5276168469300668   \n",
            "[ 9.13881514e-01  4.73008977e-01  9.49681136e-01 -1.46953767e+00\n",
            " -6.37963184e-01 -8.36396589e-01  1.49342954e-01 -2.85282838e-01\n",
            " -2.97357139e-01 -1.83036662e-03 -1.06823648e+00 -5.63008765e-02\n",
            " -4.75670050e-01 -1.99367956e-01 -7.35466581e-01 -1.14370613e-01\n",
            " -1.66493437e-01 -6.19955057e-02 -2.05421601e-01 -2.30588779e-01\n",
            " -2.19332429e-01 -7.46355337e-01  7.33237974e-03 -2.32699345e-01\n",
            " -3.75341453e-03 -2.47402517e-01 -1.07998825e-01 -5.60969181e-01\n",
            " -2.07153859e-01 -8.46277200e-02 -4.50377293e-02 -8.91491826e-02\n",
            " -3.85096196e-02 -1.30088773e-01 -1.51240558e-01 -2.63764101e-01\n",
            " -5.37867804e-01  1.60293132e-02 -1.24987780e-01  2.27239209e-03\n",
            " -1.00932088e-01  6.57843539e-04 -1.45311369e-01 -7.04204602e-02\n",
            " -4.33399397e-01 -2.25874379e-01 -4.48673229e-02 -3.51960902e-02\n",
            " -3.78086938e-02 -2.07588849e-02 -5.08148908e-02 -1.78355516e-02\n",
            " -8.61838832e-02 -9.94021508e-02 -2.62758962e-01 -4.01744905e-01\n",
            "  1.30567259e-02 -7.35796681e-02  2.22737987e-03 -4.59525330e-02\n",
            " -2.52251226e-04 -5.34179376e-02  2.88551504e-03 -9.28517415e-02\n",
            " -5.05260615e-02 -3.49816735e-01 -2.16197243e-01 -2.59989236e-02\n",
            " -2.70941427e-02 -1.70658435e-02 -1.32415412e-02 -1.99963285e-02\n",
            " -8.90757698e-03 -3.14521680e-02 -6.82499361e-03 -6.09699026e-02\n",
            " -6.74675657e-02 -2.51647301e-01 -3.10848172e-01  7.88849303e-03\n",
            " -4.62966816e-02  1.71208011e-03 -2.35042553e-02 -7.46429044e-04\n",
            " -2.16003596e-02  8.02401104e-05 -3.20192671e-02  4.04588503e-03\n",
            " -6.37701319e-02 -3.84632621e-02 -2.97547941e-01] \n",
            "\n",
            "Cost :  0.5259252334722865 \n",
            " \n",
            " \n",
            "Iteration    0: Cost 0.6906841667271933   \n",
            "Iteration  100: Cost 0.6409358025409516   \n",
            "Iteration  200: Cost 0.6369656420163925   \n",
            "Iteration  300: Cost 0.6362637688390708   \n",
            "Iteration  400: Cost 0.6360929250477845   \n",
            "Iteration  500: Cost 0.6360407079509788   \n",
            "Iteration  600: Cost 0.636022439804086   \n",
            "Iteration  700: Cost 0.6360156013397589   \n",
            "Iteration  800: Cost 0.6360129594686487   \n",
            "Iteration  900: Cost 0.6360119236257991   \n",
            "[ 2.29890102e-01  1.37808018e-02  2.11049958e-01 -3.81015421e-01\n",
            " -1.18817546e-01 -1.85528307e-01 -3.80922222e-02 -5.57998429e-02\n",
            " -6.63645907e-02 -3.47903592e-02 -2.90376396e-01 -1.34328425e-02\n",
            " -1.08469152e-01 -3.31271555e-02 -1.97658429e-01 -8.08182476e-02\n",
            " -3.54408377e-02 -2.16667305e-02 -4.52294898e-02 -4.35963294e-02\n",
            " -1.01613033e-01 -2.12571937e-01 -1.48296806e-03 -5.52574131e-02\n",
            " -1.78875761e-03 -5.78605592e-02 -1.51675990e-02 -1.76889468e-01\n",
            " -9.20085621e-02 -1.99891996e-02 -1.54706263e-02 -1.95257045e-02\n",
            " -1.05438307e-02 -3.22329548e-02 -2.51537972e-02 -1.20912816e-01\n",
            " -1.61209191e-01  1.87612238e-04 -3.07978521e-02 -6.82936335e-04\n",
            " -2.36877241e-02 -3.21011357e-04 -3.65505669e-02 -7.72699724e-03\n",
            " -1.58343519e-01 -9.05582642e-02 -1.23300195e-02 -1.14640000e-02\n",
            " -8.53928924e-03 -6.26964808e-03 -1.19982946e-02 -4.43103507e-03\n",
            " -2.39898881e-02 -1.40584007e-02 -1.26328848e-01 -1.27524308e-01\n",
            " -4.39044361e-04 -1.87357592e-02 -3.64717298e-04 -1.10420870e-02\n",
            " -7.34597455e-04 -1.29836158e-02  5.67984923e-04 -2.56796345e-02\n",
            " -3.89746086e-03 -1.46065440e-01 -8.51225564e-02 -8.64198695e-03\n",
            " -8.54928425e-03 -4.07502848e-03 -4.00271985e-03 -4.75942128e-03\n",
            " -2.66647810e-03 -8.03922243e-03 -1.43095574e-03 -1.89646193e-02\n",
            " -7.60727189e-03 -1.28246276e-01 -1.05209385e-01 -1.53078350e-03\n",
            " -1.21579183e-02 -2.26245391e-04 -5.79974609e-03 -6.09856707e-04\n",
            " -5.28828421e-03 -3.77825635e-04 -8.24081514e-03  1.10109963e-03\n",
            " -1.95958532e-02 -1.76803510e-03 -1.39547347e-01] \n",
            "\n",
            "Cost :  0.6360115169647047 \n",
            " \n",
            " \n",
            "Iteration    0: Cost 0.690726556543032   \n",
            "Iteration  100: Cost 0.6733680354880518   \n",
            "Iteration  200: Cost 0.6733585295118812   \n",
            "Iteration  300: Cost 0.6733584501038365   \n",
            "Iteration  400: Cost 0.6733584492554271   \n",
            "Iteration  500: Cost 0.673358449245554   \n",
            "Iteration  600: Cost 0.6733584492454356   \n",
            "Iteration  700: Cost 0.6733584492454341   \n",
            "Iteration  800: Cost 0.6733584492454341   \n",
            "Iteration  900: Cost 0.6733584492454341   \n",
            "[ 3.37808165e-02 -2.34927164e-02  3.11666047e-02 -9.77723274e-02\n",
            " -2.58839887e-02 -5.49574013e-02 -2.74503776e-02 -1.32464334e-02\n",
            " -1.66920924e-02 -2.50680409e-02 -7.72560531e-02 -4.10546936e-03\n",
            " -2.56607765e-02 -7.03992878e-03 -6.09887909e-02 -3.34532230e-02\n",
            " -8.46908290e-03 -6.41192001e-03 -1.09857807e-02 -9.74949865e-03\n",
            " -4.20741129e-02 -5.97255984e-02 -1.52011632e-03 -1.30630045e-02\n",
            " -6.91624310e-04 -1.41378373e-02 -3.11949058e-03 -5.91112135e-02\n",
            " -3.43944265e-02 -5.23355587e-03 -4.46477006e-03 -4.49707683e-03\n",
            " -2.75638839e-03 -8.40619497e-03 -5.39638985e-03 -4.85467510e-02\n",
            " -4.83381574e-02 -1.14660278e-03 -7.40417931e-03 -3.66080394e-04\n",
            " -5.60537600e-03 -2.13433641e-04 -9.46838945e-03 -1.57214675e-03\n",
            " -5.76352203e-02 -3.35448385e-02 -3.70088984e-03 -3.24421160e-03\n",
            " -1.96912086e-03 -1.66142761e-03 -2.89433650e-03 -1.12902321e-03\n",
            " -6.72397313e-03 -3.01260562e-03 -5.22488236e-02 -4.11669023e-02\n",
            " -1.30695798e-03 -4.60293881e-03 -2.26784937e-04 -2.61568858e-03\n",
            " -2.62912231e-04 -3.15959983e-03  5.11349542e-05 -7.13932694e-03\n",
            " -8.81212797e-04 -5.78308649e-02 -3.24368520e-02 -3.01778818e-03\n",
            " -2.40490962e-03 -9.62254337e-04 -1.05805437e-03 -1.13007155e-03\n",
            " -6.93179747e-04 -2.03502700e-03 -3.80432472e-04 -5.70448971e-03\n",
            " -1.76923459e-03 -5.56948397e-02 -3.68056450e-02 -1.60272437e-03\n",
            " -3.06415450e-03 -1.51895845e-04 -1.38673013e-03 -1.98716452e-04\n",
            " -1.27013981e-03 -1.35183313e-04 -2.08736739e-03  1.97584683e-04\n",
            " -5.87842308e-03 -6.18411182e-04 -5.98301188e-02] \n",
            "\n",
            "Cost :  0.673358449245434 \n",
            " \n",
            " \n"
          ]
        },
        {
          "output_type": "display_data",
          "data": {
            "text/plain": [
              "<Figure size 864x720 with 4 Axes>"
            ],
            "image/png": "[encoded data removed]"
          },
          "metadata": {
            "needs_background": "light"
          }
        }
      ]
    }
  ]
}